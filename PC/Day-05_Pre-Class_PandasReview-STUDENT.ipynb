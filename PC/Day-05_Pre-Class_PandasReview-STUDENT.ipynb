{
 "cells": [
  {
   "cell_type": "markdown",
   "metadata": {},
   "source": [
    "# Pre-Class Assignment: Pandas Review\n",
    "# Day 5\n",
    "# CMSE 202"
   ]
  },
  {
   "cell_type": "markdown",
   "metadata": {},
   "source": [
    "### <p style=\"text-align: right;\"> &#9989; Sainatha Goud Paamujula</p>"
   ]
  },
  {
   "cell_type": "markdown",
   "metadata": {},
   "source": [
    "## Goals for today's pre-class assignment \n",
    "\n",
    "1. Reviewing the basics of Pandas\n",
    "2. Reviewing Pandas Dataframes\n",
    " \n",
    "### Assignment instructions\n",
    "\n",
    "Watch any videos below, do any of the associated readings, and complete the assigned programming problems.  Please get started early, and come to office hours if you have any questions! You should also use Slack to help each other thought any issues you run into!\n",
    "\n",
    "Recall that to make notebook cells that have Python code in them do something, hold down the 'shift' key and then press the 'enter' key (you'll have to do this to get the YouTube videos to run).  To edit a cell (to add answers, for example) you double-click on the cell, add your text, and then enter it by holding down 'shift' and pressing 'enter'\n",
    "\n",
    "**This assignment is due by 11:59 p.m. the day before class,** and should be uploaded into the appropriate \"Pre-class assignments\" dropbox folder.  Submission instructions can be found at the end of the notebook."
   ]
  },
  {
   "cell_type": "markdown",
   "metadata": {},
   "source": [
    "## Imports for the Day\n",
    "\n",
    "One of the downsides of notebooks is knowing when things got imported and what modules were important. Trying to get into the habit of including all of the important imports at the top of the notebook is a good way to ensure that you don't run into issues later on in the notebook. When you restart the notebook, you can run that first cell to get the imports right."
   ]
  },
  {
   "cell_type": "code",
   "execution_count": 1,
   "metadata": {},
   "outputs": [],
   "source": [
    "from IPython.display import HTML\n",
    "from IPython.display import YouTubeVideo\n",
    "import pandas as pd\n",
    "import matplotlib.pyplot as plt\n",
    "import numpy as np"
   ]
  },
  {
   "cell_type": "markdown",
   "metadata": {},
   "source": [
    "----\n",
    "\n",
    "## 1. Reviewing the basics of  Pandas\n",
    "\n",
    "Pandas is a fundamental tool for doing Data Science work in Python. While we can do this work in straight Python, Pandas makes much of that work easier. We cannot do justice to all of Pandas, as it is a big package, but here we'll remind ourselves of some of the basics. As you do more data science work, you'll pick more and more of Pandas as you go along. \n",
    "\n",
    "What follows should mostly be review. Feel free to reach out and find tutorial pages that might help with reminding you of how Pandas works. Make sure to bookmark any pages or tutorials you find that are particularly useful!"
   ]
  },
  {
   "cell_type": "markdown",
   "metadata": {},
   "source": [
    "### 1.1 Pandas Series\n",
    "\n",
    "The basic Pandas data structure is called a *Series*. It is a sequence, not unlike a numpy array, but with an associated set of labels for each value called the *index*. If you don't provide the index labels, Pandas will use the regular 0-based index as the label. Again: if you don't provide index labels, it will use the numeric index as the index label. That will be important later.\n",
    "\n",
    "You can make a Series using either a python *dict*, with keys as the indices, or by separately providing the values and indices. You can also updated the index labels or reset the labels to the default. Note however that the `reset_index` method does *not* change the Series but returns, not a Series but a DataFrame, where the original index is preserved as a new column.\n",
    "\n",
    "&#9989; **Review the following example and make sure you understand everything that is happening**."
   ]
  },
  {
   "cell_type": "code",
   "execution_count": 2,
   "metadata": {},
   "outputs": [
    {
     "name": "stdout",
     "output_type": "stream",
     "text": [
      "\n",
      "Series with indices\n",
      "Type: <class 'pandas.core.series.Series'>\n",
      "one      1\n",
      "two      2\n",
      "three    3\n",
      "four     4\n",
      "dtype: int64\n",
      "\n",
      "Series with default indices\n",
      "Type: <class 'pandas.core.series.Series'>\n",
      "0    5\n",
      "1    6\n",
      "2    7\n",
      "3    8\n",
      "dtype: int64\n",
      "\n",
      "Series from a dictionary\n",
      "nine       9\n",
      "ten       10\n",
      "eleven    11\n",
      "twelve    12\n",
      "dtype: int64\n"
     ]
    }
   ],
   "source": [
    "# assumes you have imported Pandas as pd in the cell at the top of this page\n",
    "series_index = pd.Series([1,2,3,4], index=['one', 'two', 'three', 'four'])\n",
    "print(\"\\nSeries with indices\")\n",
    "print(\"Type:\", type(series_index))\n",
    "print(series_index)\n",
    "\n",
    "series_noindex = pd.Series([5,6,7,8])\n",
    "print(\"\\nSeries with default indices\")\n",
    "print(\"Type:\", type(series_noindex))\n",
    "print(series_noindex)\n",
    "\n",
    "my_dict = { 'nine': 9, 'ten':10, 'eleven':11, 'twelve':12 }\n",
    "series_dict = pd.Series(my_dict)\n",
    "print(\"\\nSeries from a dictionary\")\n",
    "print(series_dict)"
   ]
  },
  {
   "cell_type": "markdown",
   "metadata": {},
   "source": [
    "### 1.2 Manipulating Series\n",
    "\n",
    "Once you have a Pandas Series object, You can access the values in a number of ways:\n",
    "* using the label in [ ], much as you would in a dictionary\n",
    "* using data member \"dot\" (`.`) access, if the label name would constitute a valid Python variable name (can't start with a digit for example)\n",
    "* using numpy array indexing\n",
    "\n",
    "Without a label (using default indices) you are restricted to using only the last approach.\n",
    "\n",
    "&#9989; **Review the following mechanisms for accessing data in a Pandas series based on the format and structure of the Series object**."
   ]
  },
  {
   "cell_type": "code",
   "execution_count": 3,
   "metadata": {},
   "outputs": [
    {
     "name": "stdout",
     "output_type": "stream",
     "text": [
      "3\n",
      "3\n",
      "3\n",
      "7\n"
     ]
    },
    {
     "name": "stderr",
     "output_type": "stream",
     "text": [
      "/var/folders/9b/v5fklxbj7bq2zr1_5wsrnf8c0000gn/T/ipykernel_55703/3640324809.py:8: FutureWarning: Series.__getitem__ treating keys as positions is deprecated. In a future version, integer keys will always be treated as labels (consistent with DataFrame behavior). To access a value by position, use `ser.iloc[pos]`\n",
      "  print(series_index[2])\n"
     ]
    }
   ],
   "source": [
    "#using label\n",
    "print(series_index[\"three\"])\n",
    "\n",
    "#using data member access\n",
    "print(series_index.three)\n",
    "\n",
    "#using array index, 0-based\n",
    "print(series_index[2])\n",
    "\n",
    "# no labels\n",
    "print(series_noindex[2])\n",
    "# series_noindex.2   # can't, 2 isn't a valid Python variable name"
   ]
  },
  {
   "cell_type": "markdown",
   "metadata": {},
   "source": [
    "Once you have a series object, **you can assign/change the values to any of the locations that you can access**. Like so:"
   ]
  },
  {
   "cell_type": "code",
   "execution_count": 4,
   "metadata": {},
   "outputs": [
    {
     "name": "stdout",
     "output_type": "stream",
     "text": [
      "Before:\n",
      "nine       9\n",
      "ten       10\n",
      "eleven    11\n",
      "twelve    12\n",
      "dtype: int64\n",
      "---\n",
      "After:\n",
      "nine        9\n",
      "ten        10\n",
      "eleven    111\n",
      "twelve    122\n",
      "dtype: int64\n"
     ]
    }
   ],
   "source": [
    "print(\"Before:\")\n",
    "print(series_dict)\n",
    "print(\"---\")\n",
    "\n",
    "series_dict[\"eleven\"] = 111\n",
    "series_dict.twelve = 122\n",
    "\n",
    "print(\"After:\")\n",
    "print(series_dict)"
   ]
  },
  {
   "cell_type": "markdown",
   "metadata": {},
   "source": [
    "### 1.3 Numpy like operations\n",
    "Finally, as a reminder, you can do many of the things you learned to do when indexing NumPy arrays with a Pandas Series object as well.\n",
    "\n",
    "&#9989; **Review the following examples to remind yourself how you can use NumPy-style operations to access Series data in Pandas.**\n",
    "\n",
    "Look at how you can work with ranges of the series elements. The labels are ordered and so the following works:"
   ]
  },
  {
   "cell_type": "code",
   "execution_count": 5,
   "metadata": {},
   "outputs": [
    {
     "name": "stdout",
     "output_type": "stream",
     "text": [
      "two      2\n",
      "three    3\n",
      "four     4\n",
      "dtype: int64\n"
     ]
    }
   ],
   "source": [
    "print(series_index[\"two\":])"
   ]
  },
  {
   "cell_type": "markdown",
   "metadata": {},
   "source": [
    "You can also apply **Boolean masks to a Series**:"
   ]
  },
  {
   "cell_type": "code",
   "execution_count": 6,
   "metadata": {},
   "outputs": [
    {
     "name": "stdout",
     "output_type": "stream",
     "text": [
      "nine     9\n",
      "ten     10\n",
      "dtype: int64\n"
     ]
    }
   ],
   "source": [
    "print(series_dict[series_dict <= 10])"
   ]
  },
  {
   "cell_type": "markdown",
   "metadata": {},
   "source": [
    "And you can **perform operations** which return a new series (but don't modify the existing one):"
   ]
  },
  {
   "cell_type": "code",
   "execution_count": 7,
   "metadata": {},
   "outputs": [
    {
     "name": "stdout",
     "output_type": "stream",
     "text": [
      "nine       18\n",
      "ten        20\n",
      "eleven    222\n",
      "twelve    244\n",
      "dtype: int64\n",
      "63.0\n"
     ]
    }
   ],
   "source": [
    "print(series_dict * 2)\n",
    "print(series_dict.mean() )"
   ]
  },
  {
   "cell_type": "markdown",
   "metadata": {},
   "source": [
    "There are **many operations** you can perform on a Pandas Series object (over 200 last we checked!). You'll pick up more as you continue to become a Pandas expert."
   ]
  },
  {
   "cell_type": "markdown",
   "metadata": {},
   "source": [
    "----\n",
    "\n",
    "## 2 Reviewing the Pandas Dataframe\n",
    "\n",
    "A Pandas DataFrame is a 2 dimensional data structure. The easiest way to think of a DataFrame is as a group of Series objects where each Series represents a column in the 2D structure. As with Series you can make them a number of ways but the standard way is to use a dictionary where the keys are the column *headers* and the values are a list of values under that header.\n",
    "\n",
    "<div align=\"left\"><img src=\"https://raw.githubusercontent.com/msu-cmse-courses/cmse202-supplemental-data/main/data/df.png\" alt=\"df\" border=\"0\" width=400></div>\n",
    "\n",
    "It is always important to know the **types** in each column as that can affect the kinds of operations you can perform on a column. Listing the `.dtypes` provides such a list. A type of `object` is likely (though not necessarily) a string.\n",
    "\n",
    "An index for the rows is provided by default using 0-based array indexing. The use of `[]` label indexing returns a `Series` which is a column with that heading name. The index of the entire DataFrame is used for the returned Series.\n",
    "    \n",
    "&#9989; **Run and review the following code:**"
   ]
  },
  {
   "cell_type": "code",
   "execution_count": 8,
   "metadata": {},
   "outputs": [
    {
     "name": "stdout",
     "output_type": "stream",
     "text": [
      "<class 'pandas.core.frame.DataFrame'>\n",
      "    name  age  weight complaint\n",
      "0  james   10     150    sprain\n",
      "1    jim   20     140       cut\n",
      "2   joan   30     130  headache\n",
      "3   jill   40     120     break\n",
      "\n",
      " Column types\n",
      "name         object\n",
      "age           int64\n",
      "weight        int64\n",
      "complaint    object\n",
      "dtype: object\n",
      "\n",
      " age column\n",
      "0    10\n",
      "1    20\n",
      "2    30\n",
      "3    40\n",
      "Name: age, dtype: int64\n",
      "<class 'pandas.core.series.Series'>\n"
     ]
    }
   ],
   "source": [
    "patient_dict = {\"name\":[\"james\",\"jim\",\"joan\",\"jill\"],\n",
    "                 \"age\":[10, 20, 30, 40],\n",
    "                 \"weight\":[150, 140, 130, 120],\n",
    "                 \"complaint\": [\"sprain\", \"cut\", \"headache\", \"break\"]}\n",
    "patient_df = pd.DataFrame(patient_dict)\n",
    "\n",
    "print(type(patient_df))\n",
    "print(patient_df)\n",
    "\n",
    "print(\"\\n Column types\")\n",
    "print(patient_df.dtypes)\n",
    "\n",
    "print(\"\\n age column\")\n",
    "age = patient_df[\"age\"]\n",
    "print(age)\n",
    "print(type(age))\n"
   ]
  },
  {
   "cell_type": "markdown",
   "metadata": {},
   "source": [
    "### 2.1 Data Frame indexing\n",
    "\n",
    "As we noted above, the index for a DataFrame by default is a 0-based array index. However, we can choose to use a different column as an index for the DataFrame. The `.set_index()` method allows us to set the index.\n",
    "\n",
    "An **irritating** issue is whether the Series being worked on changes. Typically it does not but most methods provide a `inplace = True` setting to apply the changes to the existing element. Otherwise you must assign the result to preserve it.\n",
    "\n",
    "If you do not do so, the column being used as an index is no longer available using standard indexing. If you provide `drop = False` in set_index, the column is preserved in the DataFrame as well as in the index. If you `.reset_index()` returns to 0-based indexing\n",
    "\n",
    "To access a row, you can use either `.loc` or `.iloc`\n",
    "* `.loc` uses the row index **label** to access the row (or the 0-based index of none is provided). It returns a Series\n",
    "* `.iloc` uses the 0-based index regardless of whether a label exists. It too returns a Series\n",
    "\n",
    "Indicies and headers are preserved in the Series indexed from a DataFrame\n",
    "\n",
    "&#9989; **Take a look at the following and make sure you can follow how the dataframe is being manipulated.**"
   ]
  },
  {
   "cell_type": "code",
   "execution_count": 9,
   "metadata": {},
   "outputs": [
    {
     "name": "stdout",
     "output_type": "stream",
     "text": [
      "\n",
      "Age is now the index\n",
      "      name  weight complaint\n",
      "age                         \n",
      "10   james     150    sprain\n",
      "20     jim     140       cut\n",
      "30    joan     130  headache\n",
      "40    jill     120     break\n",
      "\n",
      "Back to 0-based indexing\n",
      "   age   name  weight complaint\n",
      "0   10  james     150    sprain\n",
      "1   20    jim     140       cut\n",
      "2   30   joan     130  headache\n",
      "3   40   jill     120     break\n",
      "\n",
      "Don't change the original\n",
      "   age   name  weight complaint\n",
      "0   10  james     150    sprain\n",
      "1   20    jim     140       cut\n",
      "2   30   joan     130  headache\n",
      "3   40   jill     120     break\n",
      "\n",
      "Index by age, keep the age column\n",
      "     age   name  weight complaint\n",
      "age                              \n",
      "10    10  james     150    sprain\n",
      "20    20    jim     140       cut\n",
      "30    30   joan     130  headache\n",
      "40    40   jill     120     break\n"
     ]
    }
   ],
   "source": [
    "patient_df.set_index(\"age\", inplace=True)\n",
    "print(\"\\nAge is now the index\")\n",
    "print(patient_df)\n",
    "\n",
    "# reset to 0-based\n",
    "patient_df.reset_index(inplace=True)\n",
    "print(\"\\nBack to 0-based indexing\")\n",
    "print(patient_df)\n",
    "\n",
    "# keep age as a column\n",
    "new_df = patient_df.set_index(\"age\", drop=False)\n",
    "print(\"\\nDon't change the original\")\n",
    "print(patient_df)\n",
    "print(\"\\nIndex by age, keep the age column\")\n",
    "print(new_df)"
   ]
  },
  {
   "cell_type": "markdown",
   "metadata": {},
   "source": [
    "### 2.2 Try it yourself\n",
    "\n",
    "Now that you've reviewed the many different ways you can create and interact with Pandas dataframes, it's your turn to dust off the cobwebs and build your own dataframe from scratch!\n",
    "\n",
    "&#9989; **Try doing the following**:\n",
    "* Make a DataFrame to store student grades. The column headers should be:\n",
    "    * Name\n",
    "    * PID\n",
    "    * Total Percent Grade (out of 100)\n",
    "    * Final Grade Point (on the 0.0 - 4.0 scale)\n",
    "\n",
    "Make up some names and values to fill your Dataframe. Include **at least 8 students**.\n",
    "\n",
    "Then: \n",
    "* Set the index to be the PID\n",
    "* Print every student in the dataframe who got a 3.0 or greater"
   ]
  },
  {
   "cell_type": "code",
   "execution_count": 14,
   "metadata": {},
   "outputs": [
    {
     "name": "stdout",
     "output_type": "stream",
     "text": [
      "       Name   PID  Percent  GPA\n",
      "0  Person_A  1234       90  4.0\n",
      "1  Person_B  2345       87  3.5\n",
      "2  Person_C  3456       83  3.0\n",
      "3  Person_D  4567       90  4.0\n",
      "4  Person_E  5678       87  3.5\n",
      "5  Person_F  6789       83  3.0\n",
      "6  Person_G  7890       90  4.0\n",
      "7  Person_H  8901       87  3.5\n",
      "8  Person_I  9012       83  3.0\n",
      "--x--x--x--\n",
      "          Name  Percent  GPA\n",
      "PID                         \n",
      "1234  Person_A       90  4.0\n",
      "2345  Person_B       87  3.5\n",
      "3456  Person_C       83  3.0\n",
      "4567  Person_D       90  4.0\n",
      "5678  Person_E       87  3.5\n",
      "6789  Person_F       83  3.0\n",
      "7890  Person_G       90  4.0\n",
      "8901  Person_H       87  3.5\n",
      "9012  Person_I       83  3.0\n",
      "--x--x--x--\n",
      "          Name  Percent  GPA\n",
      "PID                         \n",
      "1234  Person_A       90  4.0\n",
      "2345  Person_B       87  3.5\n",
      "4567  Person_D       90  4.0\n",
      "5678  Person_E       87  3.5\n",
      "7890  Person_G       90  4.0\n",
      "8901  Person_H       87  3.5\n"
     ]
    }
   ],
   "source": [
    "# Put your code here (you may wish to create additional cells as you build your DataFrame and test your code)\n",
    "\n",
    "student_grades = {\"Name\": [\"Person_A\", \"Person_B\", \"Person_C\", \"Person_D\", \"Person_E\", \"Person_F\", \"Person_G\", \"Person_H\", \"Person_I\"]\n",
    "                  , \"PID\": [1234, 2345, 3456, 4567, 5678, 6789, 7890, 8901, 9012]\n",
    "                  , \"Percent\": [90, 87, 83, 90, 87, 83, 90, 87, 83]\n",
    "                  , \"GPA\": [4, 3.5, 3.0, 4, 3.5, 3.0, 4, 3.5, 3.0]\n",
    "                 }\n",
    "sg_df = pd.DataFrame(student_grades)\n",
    "\n",
    "print(sg_df)\n",
    "\n",
    "print(\"--x--x--x--\")\n",
    "\n",
    "sg_df.set_index(\"PID\", inplace = True)\n",
    "print(sg_df)\n",
    "\n",
    "print(\"--x--x--x--\")\n",
    "\n",
    "sg_df_filtered = sg_df.loc[sg_df[\"GPA\"] >= 3.5]\n",
    "print(sg_df_filtered)"
   ]
  },
  {
   "cell_type": "markdown",
   "metadata": {
    "jp-MarkdownHeadingCollapsed": true
   },
   "source": [
    "---\n",
    "## Follow-up Questions\n",
    "\n",
    "Copy and paste the following questions into the appropriate box in the assignment survey include below and answer them there. (Note: You'll have to fill out the section number and the assignment number and go to the \"NEXT\" section of the survey to paste in these questions.)\n",
    "\n",
    "1. Is there anything involving using Pandas that you're curious about or are there any specific issues you've run into in the past with Pandas that you couldn't find a solution for?\n",
    "\n",
    "2. On a scale of 1-5, with 1 being \"not at all confident\" and 5 being \"extremely confident\", how confident are you in your Pandas skills currently?"
   ]
  },
  {
   "cell_type": "markdown",
   "metadata": {},
   "source": [
    "----\n",
    "\n",
    "## Assignment wrap-up\n",
    "\n",
    "Hopefully you were able to get through all of that. We'll be trouble-shooting any issues you had\n",
    "\n",
    "**You must completely fill this out in order to receive credit for the assignment!**"
   ]
  },
  {
   "cell_type": "code",
   "execution_count": 15,
   "metadata": {},
   "outputs": [
    {
     "data": {
      "text/html": [
       "\n",
       "<iframe \n",
       "\tsrc=\"https://cmse.msu.edu/cmse202-pc-survey\" \n",
       "\twidth=\"800px\" \n",
       "\theight=\"600px\" \n",
       "\tframeborder=\"0\" \n",
       "\tmarginheight=\"0\" \n",
       "\tmarginwidth=\"0\">\n",
       "\tLoading...\n",
       "</iframe>\n"
      ],
      "text/plain": [
       "<IPython.core.display.HTML object>"
      ]
     },
     "execution_count": 15,
     "metadata": {},
     "output_type": "execute_result"
    }
   ],
   "source": [
    "from IPython.display import HTML\n",
    "HTML(\n",
    "\"\"\"\n",
    "<iframe \n",
    "\tsrc=\"https://cmse.msu.edu/cmse202-pc-survey\" \n",
    "\twidth=\"800px\" \n",
    "\theight=\"600px\" \n",
    "\tframeborder=\"0\" \n",
    "\tmarginheight=\"0\" \n",
    "\tmarginwidth=\"0\">\n",
    "\tLoading...\n",
    "</iframe>\n",
    "\"\"\"\n",
    ")\n"
   ]
  },
  {
   "cell_type": "markdown",
   "metadata": {},
   "source": [
    "---------\n",
    "### Congratulations, you're done with your pre-class assignment!\n",
    "\n",
    "Now, you just need to submit this assignment by uploading it to the course <a href=\"https://d2l.msu.edu/\">Desire2Learn</a> web page for the appropriate pre-class submission folder (Don't forget to add your name in the first cell)."
   ]
  },
  {
   "cell_type": "markdown",
   "metadata": {},
   "source": [
    "&#169; Copyright 2025  Department of Computational Mathematcs, Science and Engineering at Michigan State University"
   ]
  }
 ],
 "metadata": {
  "anaconda-cloud": {},
  "kernelspec": {
   "display_name": "Python [conda env:base] *",
   "language": "python",
   "name": "conda-base-py"
  },
  "language_info": {
   "codemirror_mode": {
    "name": "ipython",
    "version": 3
   },
   "file_extension": ".py",
   "mimetype": "text/x-python",
   "name": "python",
   "nbconvert_exporter": "python",
   "pygments_lexer": "ipython3",
   "version": "3.12.7"
  },
  "widgets": {
   "application/vnd.jupyter.widget-state+json": {
    "state": {},
    "version_major": 2,
    "version_minor": 0
   }
  }
 },
 "nbformat": 4,
 "nbformat_minor": 4
}
