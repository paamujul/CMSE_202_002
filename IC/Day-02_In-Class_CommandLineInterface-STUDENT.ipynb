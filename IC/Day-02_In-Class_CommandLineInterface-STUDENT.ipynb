{
 "cells": [
  {
   "cell_type": "markdown",
   "metadata": {
    "pycharm": {
     "name": "#%% md\n"
    },
    "slideshow": {
     "slide_type": "-"
    }
   },
   "source": [
    "# In-class Notebook: Command line interface\n",
    "# Day 2\n",
    "# CMSE 202\n",
    "\n",
    "### <p style=\"text-align: right;\"> &#9989; **Sainatha Paamujula** </p>\n",
    "\n",
    "<img src=\"https://easy-peasy.ai/cdn-cgi/image/quality=80,format=auto,width=700/https://fdczvxmwwjwpwbeeqcth.supabase.co/storage/v1/object/public/images/28037f3a-df85-41f9-84bc-951589caebd7/fee883b3-3f9f-4083-87f4-a84013b4b073.png\" width= 600>\n",
    "<p style=\"text-align: right;\">\n",
    "\n",
    "From <a>https://easy-peasy.ai/ai-image-generator/images/dynamic-unix-command-line-interface-image</p>\n",
    "\n",
    "<!-- <img src=\"https://blog.ssdnodes.com/blog/wp-content/uploads/2018/05/201805_faceless.gif\" width= 600>\n",
    "<p style=\"text-align: right;\"> -->\n",
    "<!-- From <a>https://blog.ssdnodes.com/blog/blinking-cursor-distant-server/</a>\n",
    "</p> -->"
   ]
  },
  {
   "cell_type": "markdown",
   "metadata": {
    "pycharm": {
     "name": "#%% md\n"
    }
   },
   "source": [
    "## Learning goals for today's class:\n",
    "\n",
    "By the end of class, you should:\n",
    "\n",
    "* Be more comfortable using the command line interface to:\n",
    "     * create and move between directories on your computer\n",
    "     * move, copy, and edit files\n",
    "     * download files from the internet\n",
    "     * run Python scripts\n",
    "* Be able to Enter the \"vi\" text editor, edit a file, and gracefully exit the text editor (all from starting on the command line)\n",
    "* Be able to run command line commands from inside of a Jupyter notebook\n",
    "     \n",
    "## Agenda for today's class\n",
    "\n",
    "1. [Revisiting common commandline commands](#commands)\n",
    "1. [Downloading files from the command line using `curl`](#curl)\n",
    "1. [Setting up a CMSE 202 directory using the command line](#directories)\n",
    "1. [Downloading and editing a simple (broken) Python script](#script)\n",
    "1. [Modifying another Python script, but this time with the `vi` text editor](#vi)\n",
    "1. [Testing out command line commands from **inside** a Jupyter notebook](#jupyter-commands)"
   ]
  },
  {
   "cell_type": "markdown",
   "metadata": {
    "pycharm": {
     "name": "#%% md\n"
    }
   },
   "source": [
    "------\n",
    "<a id=\"commands\"></a>\n",
    "## 1. Revisting common command line commands\n",
    "\n",
    "**&#9989; Do this:** Before you dive into today's activity, take a moment to remind yourself of some of the commands that came up in the pre-class assignment. If you don't remember what they do, check in your with your group or your instructor.\n",
    "\n",
    "**Note**: there might be a few in this list that _didn't_ come up, so make note of them and figure out what they do!\n",
    "\n",
    "* `clear` \n",
    "* `pwd`\n",
    "* `ls` \n",
    "* `cd [directory]`\n",
    "* `cd ..`\n",
    "* `cd .`\n",
    "* `cd ~` \n",
    "* `cd -`\n",
    "* `cd /`\n",
    "* `touch [new file]`\n",
    "* `cp`\n",
    "    * `cp [file] [new file]`\n",
    "    * `cp -r [folder] [new folder]`\n",
    "* `mv`\n",
    "    * `mv [path to file/folder] [new path to file/folder]` (note that this can be used for relocating files or renaming files)\n",
    "* `rm`\n",
    "    * `rm [file]`\n",
    "    * `rm -r [folder]`\n",
    "* `less [file]`\n",
    "* `more [file]`"
   ]
  },
  {
   "cell_type": "markdown",
   "metadata": {
    "pycharm": {
     "name": "#%% md\n"
    }
   },
   "source": [
    "**&#9989; Do this**: Remind yourself how you can interact with Python on the commandline as well by revisiting these commands:\n",
    "\n",
    "* `python` \n",
    "    * `import random` \n",
    "    * `random.randint(1,100)`\n",
    "    * `exit()`\n",
    "* `ipython`\n",
    "    * `import numpy as np`\n",
    "    * `np.linspace(0,100,5)` \n",
    "    * `ls`\n",
    "    * `pwd`\n",
    "    * `cd`\n",
    "    * `exit()`"
   ]
  },
  {
   "cell_type": "markdown",
   "metadata": {
    "pycharm": {
     "name": "#%% md\n"
    }
   },
   "source": [
    "------\n",
    "<a id=\"curl\"></a>\n",
    "## 2. Downloading files from the command line using `curl`\n",
    "\n",
    "Not only can you create, move, copy, and delete files on the command line, there are also commands that allow you to download files from the internet. \n",
    "\n",
    "One such command for doing this is the `curl` command. Since you may not be familiar with this command, one option would be to do a quick google search for \"curl unix command\" which would bring up a page like this one: https://www.tutorialspoint.com/unix_commands/curl.htm\n",
    "\n",
    "Of course, most command line commands also have a built-in set of documentation that explains what the command does and how it works. You can access this using the `man` command, to access the \"manual\" for that command.\n",
    "\n",
    "**&#9989; Do This**: If you haven't already, save this notebook and upload it to JupyterHub and continue working on it there. Then, open up a new Terminal in JupyterHub. Once you're there, try running the following command:\n",
    "\n",
    "``` bash\n",
    "man curl\n",
    "```\n",
    "\n",
    "(You're also welcome to do this locally on your computer if you've set up a command line interface that works on your computer)\n",
    "\n",
    "This command should bring up the manual for the `curl` command. You can step through this file one line at a time by pressing <kbd>Return</kbd> or <kbd>Enter</kbd> on your keyboard, or if you want to page through a page at a time you can press <kbd>F</kbd> or <kbd>B</kbd> to move forward and backward respectively. To quit out of the manual page, press <kbd>Q</kbd>.\n",
    "\n",
    "**&#9989; Do This**: Now that you can access the manual for the `curl` command, use it or the internet link provided above to answer the following questions:"
   ]
  },
  {
   "cell_type": "markdown",
   "metadata": {
    "pycharm": {
     "name": "#%% md\n"
    }
   },
   "source": [
    "<font size=+3>&#9998;</font> Do This - Edit this markdown to answer the questions below.\n",
    "\n",
    "1. What information does the `curl` command need to download a file from the internet?\n",
    "\n",
    "The URL\n",
    "\n",
    "2. Does `curl` save the data to a file by default or does it just output to the terminal? If it doesn't output it to a file by default, what flag (using `-` or `--`) do you need to use to make it do so? Is there more than one flag that can do this? To test this out, you can experiment a bit by using the README.md file from supplemental repository for the course:\n",
    "     * `https://raw.githubusercontent.com/msu-cmse-courses/cmse202-F22-data/main/README.md`\n",
    "\n",
    "It simply displays the data to the terminal"
   ]
  },
  {
   "cell_type": "markdown",
   "metadata": {
    "pycharm": {
     "name": "#%% md\n"
    }
   },
   "source": [
    "**&#9989; Do This**: Using what you've learned, what would be the command to download the README.md file from the course website such that it is saved using the same filename?"
   ]
  },
  {
   "cell_type": "markdown",
   "metadata": {
    "pycharm": {
     "name": "#%% md\n"
    }
   },
   "source": [
    "<font size=+3>&#9998;</font> Curl -0 https://raw.githubusercontent.com/msu-cmse-courses/cmse202-F22-data/main/README.md"
   ]
  },
  {
   "cell_type": "markdown",
   "metadata": {
    "pycharm": {
     "name": "#%% md\n"
    }
   },
   "source": [
    "**&#9989; Do This**: Confirm that you're right by running your command on your terminal (if you haven't done so already). Once you're sure it works as intended, feel free to delete that file using `rm`."
   ]
  },
  {
   "cell_type": "markdown",
   "metadata": {
    "pycharm": {
     "name": "#%% md\n"
    }
   },
   "source": [
    "------\n",
    "<a id=\"directories\"></a>\n",
    "## 3. Setting up a CMSE 202 directory using the command line\n",
    "\n",
    "If you've haven't already, in this section you're going practice setting up a directory structure on JupyterHub (or your computer if you're working on things locally) for storing content related to CMSE 202.\n",
    "\n",
    "**&#9989; Do This** - Using the **command line interface**, do the following:\n",
    "\n",
    "* Create a new directory in your home directory called `CMSE202` (if you can't remember which command to use, ask your group for help!)\n",
    "* Then, **inside** the `CMSE202` directory, create two additional directories: `notebooks` and `scripts` (remind yourself how to change directories)\n",
    "* Double-check that everything worked by running the `pwd` and `ls` commands to poke around in your new directories.\n",
    "* If you already have some 202 notebooks on JupyterHub (or your computer), try using the `mv` command to move them into your new directories -- this might be a little tricky at first!"
   ]
  },
  {
   "cell_type": "markdown",
   "metadata": {
    "pycharm": {
     "name": "#%% md\n"
    }
   },
   "source": [
    "## &#128721; STOP\n",
    "\n",
    "Check in with an instructor and show your work!\n",
    "\n"
   ]
  },
  {
   "cell_type": "markdown",
   "metadata": {
    "pycharm": {
     "name": "#%% md\n"
    }
   },
   "source": [
    "---\n",
    "<a id=\"script\"></a>\n",
    "## 4. Downloading and editing a simple (broken) Python script\n",
    "\n",
    "Now that you have a directory structure set up for CMSE 202, let's download a Python script into your new `scripts` directory.\n",
    "\n",
    "**&#9989; Do This**: Make sure to navigate into your `scripts` directory on the command line and then use `curl` to download the following script (make sure you use the right flag so that it is saved as \"fib.py\":\n",
    "\n",
    "`https://raw.githubusercontent.com/msu-cmse-courses/cmse202-F22-data/main/code_samples/fib.py`\n",
    "\n",
    "**&#9989; Do This**: Now that you have the file downloaded, do the following:\n",
    "\n",
    "1. Run the script on the command line using Python and look at the results.\n",
    "2. Open the file and take a look at the comments. Do you understand what the code is doing? Is there anything in the code that you've never seen before? If so, discuss these new components with your group and see if you can make sense of them. Specifically, do you understand what the following code is doing?\n",
    "\n",
    "``` python\n",
    "if __name__== \"__main__\":\n",
    "    main()\n",
    "```\n",
    "3. Is the code correctly doing what it is meant to do? If not, can you figure out what's going wrong?\n",
    "\n",
    "Is the cell below, **explain**:\n",
    "* what the entire code is doing\n",
    "* what is supposed to do\n",
    "* how you might fix it\n",
    "* anything you didn't originally understand about the code (along with an explanation of what you learned about the confusing code)"
   ]
  },
  {
   "cell_type": "markdown",
   "metadata": {
    "pycharm": {
     "name": "#%% md\n"
    }
   },
   "source": [
    "<font size=+3>&#9998;</font> the code should be following the fibanoci sequence, which it is following except every other integer after 1 is negative. The integers should all be in positive notation, and none should be in negative notation. I think the solution is: \"return high_num+low_num\""
   ]
  },
  {
   "cell_type": "markdown",
   "metadata": {
    "pycharm": {
     "name": "#%% md\n"
    }
   },
   "source": [
    "**&#9989; Do This**: Now that you know what's wrong with the code, **fix it!** Edit the file with your solution and then re-run the code to make sure it works as intended."
   ]
  },
  {
   "cell_type": "markdown",
   "metadata": {
    "pycharm": {
     "name": "#%% md\n"
    }
   },
   "source": [
    "------\n",
    "<a id=\"vi\"></a>\n",
    "## 5. Modifying another Python script, but this time with the `vi` text editor\n",
    "\n",
    "OK, so now that you've explored a Python script and have begun to get comfortable with running such a script on the command line, you're going to download another script, but instead of editing the file withing the Jupyter text editor, you've doing to modify the script using a command-line-based text editor that is widely available on many systems: \"[vi](https://en.wikipedia.org/wiki/Vi)\"\n",
    "\n",
    "For this part of the activity, you're going to work with a script that is designed to calculate the $x$-position and $y$-position of a projectile as a function of time. Since you are not expected to know the equations for projectile motion off the top of your head for this class, there are provided here:\n",
    "\n",
    "$$x(t) = v_{0}t\\cos(\\theta)$$\n",
    "$$y(t) = v_{0}t\\sin(\\theta) - \\frac{1}{2}gt^2$$\n",
    "\n",
    "where $v_0$ is the magnitude of the initial velocity in meters per second, $\\theta$ is the angle that that the projectile is launched at in radians, $g$ is the acceleration due to gravity in meters per seconds-squared, and $t$ is the time in seconds.\n",
    "\n",
    "You do not need to understand the physics behind projectfile motion to complete this activity, **you only need to understand what the code is doing so that you can modify it a bit.**\n",
    "\n",
    "**&#9989; Do This**: Download the following script in your `scripts` directory using the command line:\n",
    "\n",
    "`https://raw.githubusercontent.com/msu-cmse-courses/cmse202-F22-data/main/code_samples/projectile_motion.py`\n",
    "\n",
    "Once you've downloaded it, **test it out** by running it on the command line. You should find that when the script runs, it makes an image called `x_vs_time.png`. You can find this image by looking for it on your Jupyter \"home page\". It should look something like this: \n",
    "\n",
    "<div align=\"center\"><img src=\"https://i.ibb.co/VvvYGQn/x-vs-time.png\" alt=\"x-vs-time\" border=\"0\" width=400></div>\n",
    "\n",
    "**&#9989; Do This**: Once you have the script downloaded and have confirmed that it works as intended, **make a copy of it using the command line** and call this new file `projectile_motion_2.py` (clever name, no?). What was the command you used to make the copy of the original?"
   ]
  },
  {
   "cell_type": "markdown",
   "metadata": {
    "pycharm": {
     "name": "#%% md\n"
    }
   },
   "source": [
    "<font size=+3>&#9998;</font> cp pm.py pm2.py"
   ]
  },
  {
   "cell_type": "markdown",
   "metadata": {
    "pycharm": {
     "name": "#%% md\n"
    }
   },
   "source": [
    "### Opening the file with vi\n",
    "\n",
    "**&#9989; Do This**: Using the `vi` directions from the PCA, let's try opening the copy of the original script and making a few minor changes. Do the following:\n",
    "\n",
    "* Open `projectile_motion_2.py` using the `vi` command on the command line\n",
    "* Make the following changes to the script:\n",
    "     * Change the call to the `compute_trajectory` function in the `main` function so that the velocity of projectile is 750 m s $^{-1}$ and the launch angle is 45 degrees. **Do not alter the `compute_trajectory` function itself**. \n",
    "* Save and quit the file.\n",
    "* Test out your new function by running the script on the command line. If everything went as planned, you should have a new plot of $x$ as a function of time that looks like this (indicating that the projectile traveled farther):\n",
    "\n",
    "<div align=\"center\"><img src=\"https://i.ibb.co/Kb286ZY/x-vs-time.png\" alt=\"x-vs-time\" border=\"0\" width=400></div>"
   ]
  },
  {
   "cell_type": "markdown",
   "metadata": {
    "pycharm": {
     "name": "#%% md\n"
    }
   },
   "source": [
    "#### Can we do something a little more interesting?\n",
    "\n",
    "Looking at a straight line isn't all that much fun. It would be more interesting to see how the project traveled vertically since it should start out going up, but eventually slow down and change direction under the force of gravity. Wouldn't it be nice if our script produced **$y$ as a function of time**?\n",
    "\n",
    "**&#9989; Do This**: **Using `vi`**, make a new function that plots `y` as a function of time. You should be able to use the pre-existing `plot_x_vs_time` as a basis for your new function. While this can be a little tedious if you're just using the insert mode in `vi`, there are some additional `vi` commands that can make this a little eaiser. Try out the following:\n",
    "\n",
    "* Once you open the file in `vi`, move your cursor to the front of the line where `def plot_x_vs_time` is. Then press <kbd>v</kbd> and then move your cursor down until the entire function is highlighted.\n",
    "* Once the entire function is highlighted, press <kbd>y</kbd> for \"yank\" (copy) and then move your cursor down to a blank line below the `plot_x_vs_time` function and press <kbd>p</kbd> for \"paste\". You should find that a duplicate version of the new function exists. You can now use insert mode to modify that function!\n",
    "\n",
    "There's a lot that vi can do once you start learning some of the commands and there are a lot of resources available for learning the commands (like this simple [cheat sheet](https://ryanstutorials.net/linuxtutorial/cheatsheetvi.php)).\n",
    "\n",
    "In your new version of the Python script, make sure you call your new function inside the `main` function and ensure that it saves a new file called `y_vs_time.png`. You should get something that looks like this:\n",
    "\n",
    "<div align=\"center\"><img src=\"https://i.ibb.co/7WY2kBz/y-vs-time.png\" alt=\"y-vs-time\" border=\"0\" width=400></div>\n",
    "\n",
    "Much more interesting!"
   ]
  },
  {
   "cell_type": "markdown",
   "metadata": {
    "pycharm": {
     "name": "#%% md\n"
    }
   },
   "source": [
    "------\n",
    "<a id=\"jupyter-commands\"></a>\n",
    "## 6. Testing out command line commands from **inside** a Jupyter notebook\n",
    "\n",
    "No that you've started to get comfortable with navigating the command line interface and editing files. Wer'e gonna spend the last bit of this assignment visiting how some of the same commands can be run from **inside** the Jupyter notebook itself.\n",
    "\n",
    "### Using \"`!`\"\n",
    "\n",
    "One way to access command line commands from *inside* your jupyter notebook is to use the exclamation point/bang symbol, `!`. This symbol actually tells the Jupyter notebook to run the command on whatever the underlying default command prompt is for the computer where the Jupyter notebook is being run. In the case of JupyterHub, this is the \"Terminal\" that we've already talked a bit about, but if you're running the Jupyter notebook on you computer locally, it may be something different, so be aware that this behavior may change depending on what computer/system you're using!\n",
    "\n",
    "**&#9989; Do This**: Try running the following cell to see what happens. Do the results make sense?"
   ]
  },
  {
   "cell_type": "code",
   "execution_count": 1,
   "metadata": {
    "pycharm": {
     "name": "#%%\n"
    }
   },
   "outputs": [
    {
     "name": "stdout",
     "output_type": "stream",
     "text": [
      "/Users/sainathagoudpaamujula/Desktop/CMSE 202/IC\n",
      "Day-01_In-Class_Overview-STUDENT.ipynb\n",
      "Day-02_In-Class_CommandLineInterface-STUDENT.ipynb\n"
     ]
    }
   ],
   "source": [
    "!pwd\n",
    "!ls"
   ]
  },
  {
   "cell_type": "markdown",
   "metadata": {
    "pycharm": {
     "name": "#%% md\n"
    }
   },
   "source": [
    "**&#9989; Do This**: **Carefully** try executing some of the other command line commands you've learned using `!`. As always, make sure you know what you expect the command to **before you run it!** Did all of the commands you tried work? Which, if any, didn't? You may want to experiment with using more than one cell."
   ]
  },
  {
   "cell_type": "code",
   "execution_count": 4,
   "metadata": {
    "pycharm": {
     "name": "#%%\n"
    }
   },
   "outputs": [
    {
     "name": "stdout",
     "output_type": "stream",
     "text": [
      "{[?1h\u001b=\n",
      " \"cells\": [\n",
      "  {\n",
      "   \"cell_type\": \"markdown\",\n",
      "   \"metadata\": {\n",
      "    \"pycharm\": {\n",
      "     \"name\": \"#%% md\\n\"\n",
      "    },\n",
      "    \"slideshow\": {\n",
      "     \"slide_type\": \"-\"\n",
      "    }\n",
      "   },\n",
      "   \"source\": [\n",
      "    \"# In-class Notebook: Command line interface\\n\",\n",
      "    \"# Day 2\\n\",\n",
      "    \"# CMSE 202\\n\",\n",
      "    \"\\n\",\n",
      "    \"### <p style=\\\"text-align: right;\\\"> &#9989; **Sainatha Paamujula** </p>\\n\",\n",
      "    \"\\n\",\n",
      "\u001b[K\u001b[?1l\u001b>src=\\\"https://easy-peasy.ai/cdn-cgi/image/quality=80,format=auto,width=700/https://fdczvxmwwjwpwbeeqcth.supabase.co/storage/v1/object/public/images/28037f3a-df85-41f9-84bc-951589caebd7/fee883b3-3f9f-4083-87f4-a84013b4b073.png\\\" wi\u001b[7mDay-02_In-Class_CommandLineInterface-STUDENT.ipynb\u001b[m\u001b[K\u0007"
     ]
    }
   ],
   "source": [
    "!more Day-02_In-Class_CommandLineInterface-STUDENT.ipynb"
   ]
  },
  {
   "cell_type": "markdown",
   "metadata": {
    "pycharm": {
     "name": "#%% md\n"
    }
   },
   "source": [
    "### Using the built-in IPython command line commands\n",
    "\n",
    "Because Jupyter notebooks are also **IPython** notebooks you can run some of the same commands that are available to you when you're using the IPython command prompt.\n",
    "\n",
    "**&#9989; Do This**: Run the following two cells. Do the results makes sense?"
   ]
  },
  {
   "cell_type": "code",
   "execution_count": 5,
   "metadata": {
    "pycharm": {
     "name": "#%%\n"
    }
   },
   "outputs": [
    {
     "data": {
      "text/plain": [
       "'/Users/sainathagoudpaamujula/Desktop/CMSE 202/IC'"
      ]
     },
     "execution_count": 5,
     "metadata": {},
     "output_type": "execute_result"
    }
   ],
   "source": [
    "pwd"
   ]
  },
  {
   "cell_type": "code",
   "execution_count": 6,
   "metadata": {
    "pycharm": {
     "name": "#%%\n"
    }
   },
   "outputs": [
    {
     "name": "stdout",
     "output_type": "stream",
     "text": [
      "Day-01_In-Class_Overview-STUDENT.ipynb\n",
      "Day-02_In-Class_CommandLineInterface-STUDENT.ipynb\n"
     ]
    }
   ],
   "source": [
    "ls"
   ]
  },
  {
   "cell_type": "markdown",
   "metadata": {
    "pycharm": {
     "name": "#%% md\n"
    }
   },
   "source": [
    "**&#9989; Question**: What happens if you combined the above to commands into one cell? Does it work? If not, why not? What is happening with how the Jupyter notebook is interpreting the information?"
   ]
  },
  {
   "cell_type": "code",
   "execution_count": 8,
   "metadata": {
    "pycharm": {
     "name": "#%%\n"
    }
   },
   "outputs": [
    {
     "ename": "NameError",
     "evalue": "name 'pwd' is not defined",
     "output_type": "error",
     "traceback": [
      "\u001b[0;31m---------------------------------------------------------------------------\u001b[0m",
      "\u001b[0;31mNameError\u001b[0m                                 Traceback (most recent call last)",
      "Cell \u001b[0;32mIn[8], line 2\u001b[0m\n\u001b[1;32m      1\u001b[0m \u001b[38;5;66;03m# Test out putting both commands in the same cell here\u001b[39;00m\n\u001b[0;32m----> 2\u001b[0m pwd\n\u001b[1;32m      3\u001b[0m ls\n",
      "\u001b[0;31mNameError\u001b[0m: name 'pwd' is not defined"
     ]
    }
   ],
   "source": [
    "# Test out putting both commands in the same cell here\n",
    "pwd\n",
    "ls\n",
    "\n",
    "#without the \"!\" ju"
   ]
  },
  {
   "cell_type": "markdown",
   "metadata": {
    "pycharm": {
     "name": "#%% md\n"
    }
   },
   "source": [
    "**&#9989; Do This**: Experiment with other commands to determine which ones work and which ones don't. **Proceed with caution!**"
   ]
  },
  {
   "cell_type": "code",
   "execution_count": null,
   "metadata": {
    "pycharm": {
     "name": "#%%\n"
    }
   },
   "outputs": [],
   "source": [
    "# Experiment here and create cells as necessary"
   ]
  },
  {
   "cell_type": "markdown",
   "metadata": {
    "pycharm": {
     "name": "#%% md\n"
    }
   },
   "source": [
    "---\n",
    "## Time permitting\n",
    "\n",
    "If you find yourself with extra time available and you haven't yet tried getting all of this to work on your own computer (rather than JuypterHub), visit the sofware setup guide that is linked on the [course website](https://cmse.msu.edu/cmse202) and give it a shot. If you run into issues, or you've already tried and run into issues, ask an instructor to take a look!"
   ]
  },
  {
   "cell_type": "markdown",
   "metadata": {
    "pycharm": {
     "name": "#%% md\n"
    }
   },
   "source": [
    "-----\n",
    "## Congratulations, you're done!\n",
    "\n",
    "Now, you just need to submit this assignment by uploading it to the course <a href=\"https://d2l.msu.edu/\">Desire2Learn</a> web page for today's assignment submission folder. (Don't forget to add your name in the first cell!)."
   ]
  },
  {
   "cell_type": "markdown",
   "metadata": {
    "pycharm": {
     "name": "#%% md\n"
    }
   },
   "source": [
    "&#169; Copyright 2025,  The Department of Computational Mathematics, Science and Engineering at Michigan State University."
   ]
  }
 ],
 "metadata": {
  "anaconda-cloud": {},
  "kernelspec": {
   "display_name": "Python [conda env:base] *",
   "language": "python",
   "name": "conda-base-py"
  },
  "language_info": {
   "codemirror_mode": {
    "name": "ipython",
    "version": 3
   },
   "file_extension": ".py",
   "mimetype": "text/x-python",
   "name": "python",
   "nbconvert_exporter": "python",
   "pygments_lexer": "ipython3",
   "version": "3.12.7"
  },
  "vscode": {
   "interpreter": {
    "hash": "31f2aee4e71d21fbe5cf8b01ff0e069b9275f58929596ceb00d14d90e3e16cd6"
   }
  },
  "widgets": {
   "application/vnd.jupyter.widget-state+json": {
    "state": {},
    "version_major": 2,
    "version_minor": 0
   }
  }
 },
 "nbformat": 4,
 "nbformat_minor": 4
}
