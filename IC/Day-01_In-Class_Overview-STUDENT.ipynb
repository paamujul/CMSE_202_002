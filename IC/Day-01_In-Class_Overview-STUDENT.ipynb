{
 "cells": [
  {
   "cell_type": "markdown",
   "metadata": {
    "slideshow": {
     "slide_type": "-"
    }
   },
   "source": [
    "# In-class Notebook: Welcome to CMSE202\n",
    "# Day 1 \n",
    "# CMSE 202\n",
    "\n",
    "### <p style=\"text-align: right;\"> &#9989; **Put your name here** </p>\n",
    "\n",
    "<img src=\"https://cmse.msu.edu/_assets/images/about/image001.png\" width= 400><p style=\"text-align: right;\">\n",
    "Image from https://cmse.msu.edu/\n",
    "</p>"
   ]
  },
  {
   "cell_type": "markdown",
   "metadata": {},
   "source": [
    "## Agenda for today's class\n",
    "\n",
    "</p>\n",
    "\n",
    "1. [Getting started](#start)\n",
    "2. [Reminder about pre-semester survey (for those that haven't done it)](#survey)\n",
    "3. [Review the class syllabus and in-class procedures](#syllabus)\n",
    "4. [Double-checking that your software is working](#software)\n",
    "5. [Group formation and introduction](#group-formation)\n",
    "6. [Building a concept map for CMSE 201](#concept-map)"
   ]
  },
  {
   "cell_type": "markdown",
   "metadata": {},
   "source": [
    "------\n",
    "<a id=\"start\"></a>\n",
    "# 1. Lets get started!\n",
    "\n",
    "## Important Note #1 (read this!)\n",
    "\n",
    "Unless a situation arises where you are unable to attend class, you are **expected** to be present for every class period. In as much as it is possible, you should notify your instructor if, for any reason, you have to miss class.\n",
    "\n",
    "## Importat Note #2 (read this, too!)\n",
    "\n",
    "If you're ever looking for information about class check the course website (https://cmse.msu.edu/cmse202) or the course D2L page (http://d2l.msu.edu/). If you can't find what you're looking for there, reach out to your instructor via email or Slack.\n",
    "\n",
    "## A day in your life as a CMSE 202 student\n",
    "\n",
    "As part of every class session, you should get in the habit doing the following:"
   ]
  },
  {
   "cell_type": "markdown",
   "metadata": {},
   "source": [
    "### &#9989; Bring your computer to class and make sure it is charged and ready to go\n",
    "\n",
    "You will be using you computer in class essentially every single day. If something ever happens and you will be without your computer, try to let you instructors know so that we can do our best to have a loaner laptop on hand."
   ]
  },
  {
   "cell_type": "markdown",
   "metadata": {},
   "source": [
    "### &#9989; Download the jupyter notebook of the day\n",
    "\n",
    "* Go to the <a href=\"https://cmse.msu.edu/cmse202\">class web page</a> and download a copy of the notebook for class.\n",
    "\n",
    "<!--\n",
    "* Go to the <a href=\"https://cmse.msu.edu/cmse202/\">class web page</a> and download a copy of the notebook for class.\n",
    "-->\n",
    "\n"
   ]
  },
  {
   "cell_type": "markdown",
   "metadata": {},
   "source": [
    "### &#9989; Follow along with your instructor to check-in on anything you might have missed or been confused about from the pre-class assignment\n",
    "\n",
    "* During the first ~20 minutes of class, we'll touch base on what you covered in the pre-class assignment"
   ]
  },
  {
   "cell_type": "markdown",
   "metadata": {},
   "source": [
    "### &#9989; Listen for details about the plans for that day's class period\n",
    "\n",
    "* Your instructor will go over what you'll be working on during class"
   ]
  },
  {
   "cell_type": "markdown",
   "metadata": {},
   "source": [
    "### &#9989; Work on the in-class activity *with your group*!\n",
    "\n",
    "* CMSE 202 is a collaborative course where you actively work on learning new material with your assigned group"
   ]
  },
  {
   "cell_type": "markdown",
   "metadata": {},
   "source": [
    "## Before we move on, make sure you can access the JupyterHub server (if you aren't already using it)\n",
    "\n",
    "If you're not currently running this notebook on JupyterHub (https://jupyterhub.egr.msu.edu/), make sure you can access it. To do so, you may need to do the following:"
   ]
  },
  {
   "cell_type": "markdown",
   "metadata": {
    "slideshow": {
     "slide_type": "-"
    }
   },
   "source": [
    "### &#9989; Do This - Activate your engineering account \n",
    "\n",
    "When you enrolled in class you should have received an engineering login.  If you haven't already, go to the following URL to activate the account and set your password. If you haven't set up a DECS account previously, your initial password will be your APID with an @ on the end (example: A12345678@).\n",
    "\n",
    "https://www.egr.msu.edu/decs/myaccount/?page=activate"
   ]
  },
  {
   "cell_type": "markdown",
   "metadata": {},
   "source": [
    "### &#9989; Do This - Try logging into the Engineering JupyterHub Website\n",
    "\n",
    "http://jupyterhub.egr.msu.edu\n"
   ]
  },
  {
   "cell_type": "markdown",
   "metadata": {},
   "source": [
    "### &#9989; Do This - Try uploading this notebook into JupyterHub\n",
    "Make sure you understand how this process works and once you do, exit JupyterHub (unless you plan on using JupyterHub rather than a local installation of Python)."
   ]
  },
  {
   "cell_type": "markdown",
   "metadata": {},
   "source": [
    "------\n",
    "<a id=\"survey\"></a>\n",
    "# 2. Reminder: Pre-semester Survey\n",
    "\n",
    "**If you didn't already complete the pre-course sent to you in an email**, please take a moment to do it now.\n",
    "\n",
    "#### &#9989; Do This - Execute the cell below by pressing shift+enter with the cell highlighted to test your access to Microsoft Forms. If you haven't completed the [pre-course survey](https://forms.cloud.microsoft/Pages/ResponsePage.aspx?id=MHEXIi9k2UGSEXQjetVofbihPqVa-WtNjOGYhCwpOgRUMTJOVzhIWUs5WEw4UU1JNEY1RVIzUktFQi4u ), do it now. "
   ]
  },
  {
   "cell_type": "code",
   "execution_count": 1,
   "metadata": {},
   "outputs": [
    {
     "data": {
      "text/html": [
       "\n",
       "<iframe src=\"https://forms.cloud.microsoft/Pages/ResponsePage.aspx?id=MHEXIi9k2UGSEXQjetVofbihPqVa-WtNjOGYhCwpOgRUMTJOVzhIWUs5WEw4UU1JNEY1RVIzUktFQi4u\"\n",
       "width=\"800px\"\n",
       "height=\"600px\"\n",
       "frameborder=\"0\"\n",
       "marginheight=\"0\"\n",
       "marginwidth=\"0\">Loading...</iframe>\n"
      ],
      "text/plain": [
       "<IPython.core.display.HTML object>"
      ]
     },
     "execution_count": 1,
     "metadata": {},
     "output_type": "execute_result"
    }
   ],
   "source": [
    "from IPython.display import HTML\n",
    "HTML(\n",
    "\"\"\"\n",
    "<iframe src=\"https://forms.cloud.microsoft/Pages/ResponsePage.aspx?id=MHEXIi9k2UGSEXQjetVofbihPqVa-WtNjOGYhCwpOgRUMTJOVzhIWUs5WEw4UU1JNEY1RVIzUktFQi4u\"\n",
    "width=\"800px\"\n",
    "height=\"600px\"\n",
    "frameborder=\"0\"\n",
    "marginheight=\"0\"\n",
    "marginwidth=\"0\">Loading...</iframe>\n",
    "\"\"\"\n",
    ")"
   ]
  },
  {
   "cell_type": "markdown",
   "metadata": {},
   "source": [
    "------\n",
    "<a id=\"syllabus\"></a>\n",
    "# 3. Review the class syllabus and in-class procedures\n",
    "\n",
    "### &#9989; Do This - Go to the [course website](https://cmse.msu.edu/cmse202) and review the course syllabus.\n",
    "\n",
    "* Read through the syllabus and note any questions you may have. If you can't access the syllabus for any reason, let you instructor know.\n",
    "\n",
    "* We will go through the syllabus as a class. \n",
    "\n",
    "* **Note:** If you're interested in doing an honors option, please contact me via email to discuss this.\n"
   ]
  },
  {
   "cell_type": "markdown",
   "metadata": {},
   "source": [
    "## Day-to-day class structure\n",
    "We are going to try and form some class habits to make things go smoothly and help keep us on task.\n",
    "\n",
    "**Step 1:** Download the pre-class notebook from the class website (unless directed to download it from somewhere else). Watch any associated videos, answer questions, complete the assignment and turn it into D2L by 11:59 pm the day before class. Ideally, pre-class notebooks will be posted (at least) ~48 hours before they are due.\n",
    "\n",
    "**Step 2:** During class, download the in-class notebook from the class website (or alternate specified location). \n",
    "\n",
    "**Step 3:** While you wait for class to start, read through the notebook to get an idea about what we will be doing in class. Before starting on the activity, the instructor will cover concepts from the pre-class assignment and discuss the plans for the day.\n",
    "\n",
    "**Step 4:** After a classroom-wide discussion, your instructor will prompt you to start working with your assigned group. You are expected to **work with your group** to complete the in-class activity. At the end of class you should be prepared to save your notebook and upload it to the correct location on D2L or to be \"checked-out\" by one of your course instructors to get credit for that day's work. During this group work, the instructor, TA, and LAs will float between breakout rooms to help you progress through the assignment and to answer questions.\n",
    "\n",
    "**Step 5:** Near the end of class, the course instructors may come by and ask that you display the work you did on your in-class notebook -- **this is one of the ways we will ensure that you get credit for coming to class and engaging with the content!** We do not expect that you will have necessarily completed **all** of the assignment, but will award in-class participation based on a **a committed effort to complete as much of the material as possible.** \n",
    "\n",
    "**Step 6:** Before you leave class, make sure you put your name on the notebooks and turn it in to the D2L website if requested to do so.\n"
   ]
  },
  {
   "cell_type": "markdown",
   "metadata": {},
   "source": [
    "---\n",
    "<a id=\"software\"></a>\n",
    "# 4. Double-checking that your software is working\n",
    "\n",
    "Prior to the start of the semester, we sent out an admittedly lengthy software set up guide. Our intention was to be as comprehensive as possible with the guide so that you would have the ability to run **all** of the software you would need for this course locally on your computer. Having a local installation can be really handy for times when your internet is out or unreliably, but everything covered in this course is also possible through JupyterHub (http://jupyterhub.egr.msu.edu), so you can use that as your primary computational platform is you wish.\n",
    "\n",
    "If you haven't yet looked at the software setup guide, you can check it out [here](https://cmse.msu.edu/cmse202/course_materials/SoftwareSetupGuide.html).\n",
    "\n",
    "If you tried to get all of the software installed locally on your computer, but ran into issues. Today is a good day to ask your classmates or the instructors for help!"
   ]
  },
  {
   "cell_type": "markdown",
   "metadata": {},
   "source": [
    "------\n",
    "<a id=\"group-formation\"></a>\n",
    "# 5. Time for group interaction!  \n",
    "\n",
    "Your instructor will explain how group formation will work for the semester. Some sections may be using the [CATME](https://catme.org/) software for group formation this semester. You'll work with your group during every class.\n",
    "\n",
    "Once your instructor assigns you to your groups, make sure to **take a few minutes to share the following details about you to your group**. As a listener try to make sure your learn a bit more about your group members!\n",
    "\n",
    "**Share:**\n",
    "1. Your name.\n",
    "2. Your major.\n",
    "3. Your reason for taking this class.\n",
    "4. A boring fact about yourself.\n",
    "\n",
    "Once everyone has had a chance to share, move onto the group activity below!"
   ]
  },
  {
   "cell_type": "markdown",
   "metadata": {},
   "source": [
    "------\n",
    "<a id=\"concept-map\"></a>\n",
    "# 6. Building a concept map for CMSE 201 *as a group*\n",
    "\n",
    "As you work in groups this semester, it will be important that you actively engage with your group to maximize your learning gains and ensure that you're understanding the course material. From time to time, we may encourage you to use the whiteboards available in class to think through concepts and plan out the code that you're going to write (of course, you can use the whiteboard even if we don't encourage you to do so!)\n",
    "\n",
    "For your first group activity of the semester, you're going to work with your group to **create a [concept map](https://en.wikipedia.org/wiki/Concept_map) of CMSE 201**. Since CMSE 201 is a pre-requisite for this course and because many of you first learned to write code in CMSE 201, reminding ourselves what was taught in CMSE 201 can be a good place to start CMSE 202!\n",
    "\n",
    "Some example concept maps to represent climate change can be found in this [paper](https://doi.org/10.1007/s11165-015-9493-7).\n",
    "\n",
    "<!--\n",
    "To see an example of a concept map, here's a simple one used to represent climate change using Google Jamboard, [click here](https://jamboard.google.com/d/11mt2o64Ap8zDDaaOPOAwC8SswZ3xVxOwT3tSpn3Lkmw/edit?usp=sharing).\n",
    "-->\n",
    "\n",
    "**In building your concept map of CMSE 201, as a group you should discuss the following**:\n",
    "\n",
    "1. What would you consider to be 3-4 of the main concepts or themes in CMSE 201?\n",
    "2. Within this main concepts, what are some examples that represent those concepts/theme or what skills were necessary to master those concepts?\n",
    "3. Where are the connections or threads that run between the concepts, examples, or skills? \n",
    "\n",
    "As you come up with answers to these questions, start building your concept map as a group. **You can appoint someone in the group to record your group's thoughts and draw out your concept map, or you can work on it collaboratively and take turns adding content to the map**.\n",
    "\n",
    "**You may find it useful to look at the course website from 201**: https://cmse.msu.edu/cmse201"
   ]
  },
  {
   "cell_type": "markdown",
   "metadata": {},
   "source": [
    "&#9989; Individually, try to write down some notes in your notes that come from your group discussion that summarize the main theme/concepts from 201 and some of the specific topic and skills that you recall from 201."
   ]
  },
  {
   "cell_type": "markdown",
   "metadata": {},
   "source": [
    "<font size=8 color=\"#009600\">&#9998;</font> \n",
    "1. pandas, ski-py, seaborn, and numpy\n",
    "2. Having a good analytical mindset and end goals. You must know what you need to achieve at the end of the project to fully utilize these tools. Furthermore, you need to understand the boundaries of these libraries as well to make your workflows better. For example, if you are working with machine learning models, it's better to use numpy since it is better with manipulating large datasets. And matplotlib is best for displaying data.\n",
    "3. In terms of connections, it's about utilizing each library to its fullest extent and knowing the boundaries for each library. We can do the same tasks (mostly) with pandas as with numpy, but knowing when to use which library would make your task much for efficient. I think that is the most important connection that I established while in CMSE 201."
   ]
  },
  {
   "cell_type": "markdown",
   "metadata": {},
   "source": [
    "&#128101; As a class, if time permits, some of the groups will have an opportunity to present their concept map to the whole class. Make sure someone in the group is prepared to chair their screen to display your map and share a bit about your discussion!"
   ]
  },
  {
   "cell_type": "markdown",
   "metadata": {},
   "source": [
    "----\n",
    "<a id=\"end-of-class\"></a>\n",
    "# 7. Day 1 Wrap-up\n",
    "\n",
    "### A final check-in\n",
    "\n",
    "How did things go today? If you're running into issues with the software needs for CMSE 202, now is a good time to send a note to your instructor explaining the problem(s) you're running into. \n",
    "\n",
    "Do you have any other questions or concerns about the class? **Include those in an email to your instructor as well!**."
   ]
  },
  {
   "cell_type": "markdown",
   "metadata": {},
   "source": [
    "-----\n",
    "## Congratulations, you're done with your first in-class assignment!\n",
    "\n",
    "Now, you just need to either submit this assignment by uploading it to the course <a href=\"https://d2l.msu.edu/\">Desire2Learn</a> web page for today's assignment submission folder or get \"checked-out\" by one of your section instructors. (Don't forget to add your name in the first cell!)."
   ]
  },
  {
   "cell_type": "markdown",
   "metadata": {},
   "source": [
    "&#169; Copyright 2025,  The Department of Computational Mathematics, Science and Engineering at Michigan State University."
   ]
  }
 ],
 "metadata": {
  "anaconda-cloud": {},
  "kernelspec": {
   "display_name": "Python [conda env:base] *",
   "language": "python",
   "name": "conda-base-py"
  },
  "language_info": {
   "codemirror_mode": {
    "name": "ipython",
    "version": 3
   },
   "file_extension": ".py",
   "mimetype": "text/x-python",
   "name": "python",
   "nbconvert_exporter": "python",
   "pygments_lexer": "ipython3",
   "version": "3.12.7"
  },
  "widgets": {
   "application/vnd.jupyter.widget-state+json": {
    "state": {},
    "version_major": 2,
    "version_minor": 0
   }
  }
 },
 "nbformat": 4,
 "nbformat_minor": 4
}
